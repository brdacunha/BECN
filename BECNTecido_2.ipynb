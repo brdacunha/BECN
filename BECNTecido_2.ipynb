{
  "nbformat": 4,
  "nbformat_minor": 0,
  "metadata": {
    "colab": {
      "provenance": [],
      "authorship_tag": "ABX9TyPD18bomUZ7yoj8Gr+mdvjV",
      "include_colab_link": true
    },
    "kernelspec": {
      "name": "python3",
      "display_name": "Python 3"
    },
    "language_info": {
      "name": "python"
    }
  },
  "cells": [
    {
      "cell_type": "markdown",
      "metadata": {
        "id": "view-in-github",
        "colab_type": "text"
      },
      "source": [
        "<a href=\"https://colab.research.google.com/github/brdacunha/BECN/blob/main/BECNTecido_2.ipynb\" target=\"_parent\"><img src=\"https://colab.research.google.com/assets/colab-badge.svg\" alt=\"Open In Colab\"/></a>"
      ]
    },
    {
      "cell_type": "markdown",
      "source": [
        "Controle 2"
      ],
      "metadata": {
        "id": "-3BB5FVs_lam"
      }
    },
    {
      "cell_type": "code",
      "execution_count": 1,
      "metadata": {
        "colab": {
          "base_uri": "https://localhost:8080/",
          "height": 564
        },
        "id": "2b2AmT1H_MGl",
        "outputId": "8ca9368c-f788-4a89-b526-13440b5bdc66"
      },
      "outputs": [
        {
          "output_type": "display_data",
          "data": {
            "text/plain": [
              "<Figure size 432x288 with 1 Axes>"
            ],
            "image/png": "[encoded data removed]"
          },
          "metadata": {
            "needs_background": "light"
          }
        },
        {
          "output_type": "display_data",
          "data": {
            "text/plain": [
              "<Figure size 432x288 with 1 Axes>"
            ],
            "image/png": "[encoded data removed]"
          },
          "metadata": {
            "needs_background": "light"
          }
        },
        {
          "output_type": "stream",
          "name": "stdout",
          "text": [
            "Média é 192.70400\n",
            "Desvio padrão 1.73935\n"
          ]
        }
      ],
      "source": [
        "import pandas as pd\n",
        "import matplotlib.pyplot as plt\n",
        "import numpy as np\n",
        "\n",
        "i= pd.read_csv('https://raw.githubusercontent.com/brdacunha/BECN/main/Tecido%202.csv')\n",
        "i \n",
        "\n",
        "plt.figure()\n",
        "i.boxplot('Controle_2')\n",
        "plt.show()\n",
        "\n",
        "\n",
        "plt.figure()\n",
        "plt.hist(i['Controle_2'])\n",
        "plt.xlabel('Controle_2')\n",
        "plt.grid()\n",
        "plt.show()\n",
        "\n",
        "\n",
        "media = i['Controle_2'].mean()\n",
        "print(f'Média é {media:.5f}')\n",
        "\n",
        "media = i['Controle_2'].std()\n",
        "print(f'Desvio padrão {media:.5f}')"
      ]
    },
    {
      "cell_type": "markdown",
      "source": [
        "Omo 2"
      ],
      "metadata": {
        "id": "ibC5rIkH_oD8"
      }
    },
    {
      "cell_type": "code",
      "source": [
        "import pandas as pd\n",
        "import matplotlib.pyplot as plt\n",
        "\n",
        "i= pd.read_csv('https://raw.githubusercontent.com/brdacunha/BECN/main/Tecido%202.csv')\n",
        "i \n",
        "\n",
        "plt.figure()\n",
        "i.boxplot('Omo_2')\n",
        "plt.show()\n",
        "\n",
        "plt.figure()\n",
        "plt.hist(i['Omo_2'])\n",
        "plt.xlabel('Omo_2')\n",
        "plt.grid()\n",
        "plt.show()\n",
        "\n",
        "\n",
        "media = i['Omo_2'].mean()\n",
        "print(f'Média é {media:.5f}')\n",
        "\n",
        "media = i['Omo_2'].std()\n",
        "print(f'Desvio padrão {media:.5f}')\n"
      ],
      "metadata": {
        "colab": {
          "base_uri": "https://localhost:8080/",
          "height": 565
        },
        "id": "BD9k1LfI_NWt",
        "outputId": "69d4f5e6-620b-4267-c8c4-66741d5ae848"
      },
      "execution_count": 5,
      "outputs": [
        {
          "output_type": "display_data",
          "data": {
            "text/plain": [
              "<Figure size 432x288 with 1 Axes>"
            ],
            "image/png": "[encoded data removed]"
          },
          "metadata": {
            "needs_background": "light"
          }
        },
        {
          "output_type": "display_data",
          "data": {
            "text/plain": [
              "<Figure size 432x288 with 1 Axes>"
            ],
            "image/png": "[encoded data removed]"
          },
          "metadata": {
            "needs_background": "light"
          }
        },
        {
          "output_type": "stream",
          "name": "stdout",
          "text": [
            "Média é 173.39967\n",
            "Desvio padrão 2.27505\n"
          ]
        }
      ]
    },
    {
      "cell_type": "markdown",
      "source": [
        "Vanish 2"
      ],
      "metadata": {
        "id": "wjJX9UWc_px9"
      }
    },
    {
      "cell_type": "code",
      "source": [
        "import pandas as pd\n",
        "import matplotlib.pyplot as plt\n",
        "\n",
        "i= pd.read_csv('https://raw.githubusercontent.com/brdacunha/BECN/main/Tecido%202.csv')\n",
        "i \n",
        "\n",
        "plt.figure()\n",
        "i.boxplot('Vanish_2')\n",
        "plt.show()\n",
        "\n",
        "plt.figure()\n",
        "plt.hist(i['Vanish_2'])\n",
        "plt.xlabel('Vanish_2')\n",
        "plt.grid()\n",
        "plt.show()\n",
        "\n",
        "media = i['Vanish_2'].mean()\n",
        "print(f'Média é {media:.5f}')\n",
        "\n",
        "media = i['Vanish_2'].std()\n",
        "print(f'Desvio padrão {media:.5f}')"
      ],
      "metadata": {
        "colab": {
          "base_uri": "https://localhost:8080/",
          "height": 566
        },
        "id": "B5vmloSC_NiM",
        "outputId": "4c5659a3-628a-45af-c722-c24dcad1231b"
      },
      "execution_count": 6,
      "outputs": [
        {
          "output_type": "display_data",
          "data": {
            "text/plain": [
              "<Figure size 432x288 with 1 Axes>"
            ],
            "image/png": "[encoded data removed]"
          },
          "metadata": {
            "needs_background": "light"
          }
        },
        {
          "output_type": "display_data",
          "data": {
            "text/plain": [
              "<Figure size 432x288 with 1 Axes>"
            ],
            "image/png": "[encoded data removed]"
          },
          "metadata": {
            "needs_background": "light"
          }
        },
        {
          "output_type": "stream",
          "name": "stdout",
          "text": [
            "Média é 182.92213\n",
            "Desvio padrão 1.90304\n"
          ]
        }
      ]
    },
    {
      "cell_type": "markdown",
      "source": [
        "Sabão 2"
      ],
      "metadata": {
        "id": "5XuIBAWj_tG0"
      }
    },
    {
      "cell_type": "code",
      "source": [
        "import pandas as pd\n",
        "import matplotlib.pyplot as plt\n",
        "\n",
        "i= pd.read_csv('https://raw.githubusercontent.com/brdacunha/BECN/main/Tecido%202.csv')\n",
        "i \n",
        "\n",
        "plt.figure()\n",
        "i.boxplot('Sabao_2')\n",
        "plt.show()\n",
        "\n",
        "plt.figure()\n",
        "plt.hist(i['Sabao_2'])\n",
        "plt.xlabel('Sabao_2')\n",
        "plt.grid()\n",
        "plt.show()\n",
        "\n",
        "media = i['Sabao_2'].mean()\n",
        "print(f'Média é {media:.5f}')\n",
        "\n",
        "media = i['Sabao_2'].std()\n",
        "print(f'Desvio padrão {media:.5f}')"
      ],
      "metadata": {
        "colab": {
          "base_uri": "https://localhost:8080/",
          "height": 564
        },
        "id": "Rgob0UBd_Nkc",
        "outputId": "28ece3fc-7391-4654-f672-361980ee0891"
      },
      "execution_count": 4,
      "outputs": [
        {
          "output_type": "display_data",
          "data": {
            "text/plain": [
              "<Figure size 432x288 with 1 Axes>"
            ],
            "image/png": "[encoded data removed]"
          },
          "metadata": {
            "needs_background": "light"
          }
        },
        {
          "output_type": "display_data",
          "data": {
            "text/plain": [
              "<Figure size 432x288 with 1 Axes>"
            ],
            "image/png": "[encoded data removed]"
          },
          "metadata": {
            "needs_background": "light"
          }
        },
        {
          "output_type": "stream",
          "name": "stdout",
          "text": [
            "Média é 157.47553\n",
            "Desvio padrão 1.44222\n"
          ]
        }
      ]
    },
    {
      "cell_type": "markdown",
      "source": [
        "Candida 2"
      ],
      "metadata": {
        "id": "vHR4C1fq_vrE"
      }
    },
    {
      "cell_type": "code",
      "source": [
        "import pandas as pd\n",
        "import matplotlib.pyplot as plt\n",
        "\n",
        "i= pd.read_csv('https://raw.githubusercontent.com/brdacunha/BECN/main/Tecido%202.csv')\n",
        "i \n",
        "\n",
        "plt.figure()\n",
        "i.boxplot('Candida_2')\n",
        "plt.show()\n",
        "\n",
        "plt.figure()\n",
        "plt.hist(i['Candida_2'])\n",
        "plt.xlabel('Candida_2')\n",
        "plt.grid()\n",
        "plt.show()\n",
        "\n",
        "media = i['Candida_2'].mean()\n",
        "print(f'Média é {media:.5f}')\n",
        "\n",
        "media = i['Candida_2'].std()\n",
        "print(f'Desvio padrão {media:.5f}')"
      ],
      "metadata": {
        "colab": {
          "base_uri": "https://localhost:8080/",
          "height": 564
        },
        "id": "VELyMfND_Nms",
        "outputId": "d4929020-dca7-4fba-81d6-790ae550eb4b"
      },
      "execution_count": 3,
      "outputs": [
        {
          "output_type": "display_data",
          "data": {
            "text/plain": [
              "<Figure size 432x288 with 1 Axes>"
            ],
            "image/png": "[encoded data removed]"
          },
          "metadata": {
            "needs_background": "light"
          }
        },
        {
          "output_type": "display_data",
          "data": {
            "text/plain": [
              "<Figure size 432x288 with 1 Axes>"
            ],
            "image/png": "[encoded data removed]"
          },
          "metadata": {
            "needs_background": "light"
          }
        },
        {
          "output_type": "stream",
          "name": "stdout",
          "text": [
            "Média é 180.86813\n",
            "Desvio padrão 1.64036\n"
          ]
        }
      ]
    },
    {
      "cell_type": "markdown",
      "source": [
        "Tudo Junto 2"
      ],
      "metadata": {
        "id": "PPiJ30AP_yDd"
      }
    },
    {
      "cell_type": "code",
      "source": [
        "import pandas as pd\n",
        "import matplotlib.pyplot as plt\n",
        "\n",
        "i= pd.read_csv('https://raw.githubusercontent.com/brdacunha/BECN/main/Tecido%202.csv')\n",
        "i \n",
        "\n",
        "plt.figure()\n",
        "i.boxplot(['Controle_2','Omo_2','Vanish_2','Sabao_2','Candida_2'])\n",
        "\n",
        "plt.show()\n",
        "\n"
      ],
      "metadata": {
        "colab": {
          "base_uri": "https://localhost:8080/",
          "height": 266
        },
        "id": "Lgzgwik3_Nu0",
        "outputId": "b755453a-c412-4baf-c50f-3361fb1dbfbf"
      },
      "execution_count": 2,
      "outputs": [
        {
          "output_type": "display_data",
          "data": {
            "text/plain": [
              "<Figure size 432x288 with 1 Axes>"
            ],
            "image/png": "[encoded data removed]"
          },
          "metadata": {
            "needs_background": "light"
          }
        }
      ]
    },
    {
      "cell_type": "code",
      "source": [],
      "metadata": {
        "id": "45Ilp_Nq_Nw7"
      },
      "execution_count": null,
      "outputs": []
    }
  ]
}