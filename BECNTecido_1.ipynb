{
  "nbformat": 4,
  "nbformat_minor": 0,
  "metadata": {
    "colab": {
      "provenance": [],
      "authorship_tag": "ABX9TyNZm8ELYan4VrRvF0FX1dM3",
      "include_colab_link": true
    },
    "kernelspec": {
      "name": "python3",
      "display_name": "Python 3"
    },
    "language_info": {
      "name": "python"
    }
  },
  "cells": [
    {
      "cell_type": "markdown",
      "metadata": {
        "id": "view-in-github",
        "colab_type": "text"
      },
      "source": [
        "<a href=\"https://colab.research.google.com/github/brdacunha/BECN/blob/main/BECNTecido_1.ipynb\" target=\"_parent\"><img src=\"https://colab.research.google.com/assets/colab-badge.svg\" alt=\"Open In Colab\"/></a>"
      ]
    },
    {
      "cell_type": "markdown",
      "source": [
        "Controle-1"
      ],
      "metadata": {
        "id": "Jg9hLol_S8Oq"
      }
    },
    {
      "cell_type": "code",
      "execution_count": 7,
      "metadata": {
        "colab": {
          "base_uri": "https://localhost:8080/",
          "height": 564
        },
        "id": "LR-aCaQgOOg4",
        "outputId": "ce6a4752-857b-4860-85a0-49cebb5a1996"
      },
      "outputs": [
        {
          "output_type": "display_data",
          "data": {
            "text/plain": [
              "<Figure size 432x288 with 1 Axes>"
            ],
            "image/png": "[encoded data removed]"
          },
          "metadata": {
            "needs_background": "light"
          }
        },
        {
          "output_type": "display_data",
          "data": {
            "text/plain": [
              "<Figure size 432x288 with 1 Axes>"
            ],
            "image/png": "[encoded data removed]"
          },
          "metadata": {
            "needs_background": "light"
          }
        },
        {
          "output_type": "stream",
          "name": "stdout",
          "text": [
            "Média é 172.96847\n",
            "Desvio padrão 6.83445\n"
          ]
        }
      ],
      "source": [
        "import pandas as pd\n",
        "import matplotlib.pyplot as plt\n",
        "import numpy as np\n",
        "\n",
        "i= pd.read_csv('https://raw.githubusercontent.com/brdacunha/BECN/main/Tecido_1.csv')\n",
        "i \n",
        "\n",
        "plt.figure()\n",
        "i.boxplot('Controle_1')\n",
        "plt.show()\n",
        "\n",
        "\n",
        "plt.figure()\n",
        "plt.hist(i['Controle_1'])\n",
        "plt.xlabel('Controle_1')\n",
        "plt.grid()\n",
        "plt.show()\n",
        "\n",
        "\n",
        "media = i['Controle_1'].mean()\n",
        "print(f'Média é {media:.5f}')\n",
        "\n",
        "media = i['Controle_1'].std()\n",
        "print(f'Desvio padrão {media:.5f}')\n"
      ]
    },
    {
      "cell_type": "markdown",
      "source": [
        "Omo-1"
      ],
      "metadata": {
        "id": "xMvkBAUQTCKl"
      }
    },
    {
      "cell_type": "code",
      "source": [
        "import pandas as pd\n",
        "import matplotlib.pyplot as plt\n",
        "\n",
        "i= pd.read_csv('https://raw.githubusercontent.com/brdacunha/BECN/main/Tecido_1.csv')\n",
        "i \n",
        "\n",
        "plt.figure()\n",
        "i.boxplot('Omo_1')\n",
        "plt.show()\n",
        "\n",
        "plt.figure()\n",
        "plt.hist(i['Omo_1'])\n",
        "plt.xlabel('Omo_1')\n",
        "plt.grid()\n",
        "plt.show()\n",
        "\n",
        "\n",
        "media = i['Omo_1'].mean()\n",
        "print(f'Média é {media:.5f}')\n",
        "\n",
        "media = i['Omo_1'].std()\n",
        "print(f'Desvio padrão {media:.5f}')\n"
      ],
      "metadata": {
        "colab": {
          "base_uri": "https://localhost:8080/",
          "height": 564
        },
        "id": "AkL4q3ASTD7D",
        "outputId": "dc5098ce-bd80-4e39-f3db-3dc4a6265648"
      },
      "execution_count": 2,
      "outputs": [
        {
          "output_type": "display_data",
          "data": {
            "text/plain": [
              "<Figure size 432x288 with 1 Axes>"
            ],
            "image/png": "[encoded data removed]"
          },
          "metadata": {
            "needs_background": "light"
          }
        },
        {
          "output_type": "display_data",
          "data": {
            "text/plain": [
              "<Figure size 432x288 with 1 Axes>"
            ],
            "image/png": "[encoded data removed]"
          },
          "metadata": {
            "needs_background": "light"
          }
        },
        {
          "output_type": "stream",
          "name": "stdout",
          "text": [
            "Média é 168.33780\n",
            "Desvio padrão 3.74748\n"
          ]
        }
      ]
    },
    {
      "cell_type": "markdown",
      "source": [
        "Vanish-1"
      ],
      "metadata": {
        "id": "tjyylsw5TKrf"
      }
    },
    {
      "cell_type": "code",
      "source": [
        "import pandas as pd\n",
        "import matplotlib.pyplot as plt\n",
        "\n",
        "i= pd.read_csv('https://raw.githubusercontent.com/brdacunha/BECN/main/Tecido_1.csv')\n",
        "i \n",
        "\n",
        "plt.figure()\n",
        "i.boxplot('Vanish_1')\n",
        "plt.show()\n",
        "\n",
        "plt.figure()\n",
        "plt.hist(i['Vanish_1'])\n",
        "plt.xlabel('Vanish_1')\n",
        "plt.grid()\n",
        "plt.show()\n",
        "\n",
        "media = i['Vanish_1'].mean()\n",
        "print(f'Média é {media:.5f}')\n",
        "\n",
        "media = i['Vanish_1'].std()\n",
        "print(f'Desvio padrão {media:.5f}')\n"
      ],
      "metadata": {
        "colab": {
          "base_uri": "https://localhost:8080/",
          "height": 564
        },
        "id": "LQYny_YaTMxL",
        "outputId": "ba2ed24c-09d4-4be2-e479-c4271f703b3a"
      },
      "execution_count": 3,
      "outputs": [
        {
          "output_type": "display_data",
          "data": {
            "text/plain": [
              "<Figure size 432x288 with 1 Axes>"
            ],
            "image/png": "[encoded data removed]"
          },
          "metadata": {
            "needs_background": "light"
          }
        },
        {
          "output_type": "display_data",
          "data": {
            "text/plain": [
              "<Figure size 432x288 with 1 Axes>"
            ],
            "image/png": "[encoded data removed]"
          },
          "metadata": {
            "needs_background": "light"
          }
        },
        {
          "output_type": "stream",
          "name": "stdout",
          "text": [
            "Média é 164.21233\n",
            "Desvio padrão 1.78352\n"
          ]
        }
      ]
    },
    {
      "cell_type": "markdown",
      "source": [
        "Sabão-1"
      ],
      "metadata": {
        "id": "IhrLjjLWXIND"
      }
    },
    {
      "cell_type": "code",
      "source": [
        "import pandas as pd\n",
        "import matplotlib.pyplot as plt\n",
        "\n",
        "i= pd.read_csv('https://raw.githubusercontent.com/brdacunha/BECN/main/Tecido_1.csv')\n",
        "i \n",
        "\n",
        "plt.figure()\n",
        "i.boxplot('Sabao_1')\n",
        "plt.show()\n",
        "\n",
        "plt.figure()\n",
        "plt.hist(i['Sabao_1'])\n",
        "plt.xlabel('Sabao_1')\n",
        "plt.grid()\n",
        "plt.show()\n",
        "\n",
        "media = i['Sabao_1'].mean()\n",
        "print(f'Média é {media:.5f}')\n",
        "\n",
        "media = i['Sabao_1'].std()\n",
        "print(f'Desvio padrão {media:.5f}')"
      ],
      "metadata": {
        "colab": {
          "base_uri": "https://localhost:8080/",
          "height": 564
        },
        "id": "XoLNMmHDXKfa",
        "outputId": "10033f35-1cc8-4993-974e-75cabbc26fc7"
      },
      "execution_count": 4,
      "outputs": [
        {
          "output_type": "display_data",
          "data": {
            "text/plain": [
              "<Figure size 432x288 with 1 Axes>"
            ],
            "image/png": "[encoded data removed]"
          },
          "metadata": {
            "needs_background": "light"
          }
        },
        {
          "output_type": "display_data",
          "data": {
            "text/plain": [
              "<Figure size 432x288 with 1 Axes>"
            ],
            "image/png": "[encoded data removed]"
          },
          "metadata": {
            "needs_background": "light"
          }
        },
        {
          "output_type": "stream",
          "name": "stdout",
          "text": [
            "Média é 168.92973\n",
            "Desvio padrão 1.44777\n"
          ]
        }
      ]
    },
    {
      "cell_type": "markdown",
      "source": [
        "Candida_1"
      ],
      "metadata": {
        "id": "9fJ7AcpgXW_q"
      }
    },
    {
      "cell_type": "code",
      "source": [
        "import pandas as pd\n",
        "import matplotlib.pyplot as plt\n",
        "\n",
        "i= pd.read_csv('https://raw.githubusercontent.com/brdacunha/BECN/main/Tecido_1.csv')\n",
        "i \n",
        "\n",
        "plt.figure()\n",
        "i.boxplot('Candida_1')\n",
        "plt.show()\n",
        "\n",
        "plt.figure()\n",
        "plt.hist(i['Candida_1'])\n",
        "plt.xlabel('Candida_1')\n",
        "plt.grid()\n",
        "plt.show()\n",
        "\n",
        "media = i['Candida_1'].mean()\n",
        "print(f'Média é {media:.5f}')\n",
        "\n",
        "media = i['Candida_1'].std()\n",
        "print(f'Desvio padrão {media:.5f}')"
      ],
      "metadata": {
        "colab": {
          "base_uri": "https://localhost:8080/",
          "height": 564
        },
        "id": "LuVBWh4DXWyq",
        "outputId": "6a56456a-834e-49eb-ac46-a86027889f78"
      },
      "execution_count": 6,
      "outputs": [
        {
          "output_type": "display_data",
          "data": {
            "text/plain": [
              "<Figure size 432x288 with 1 Axes>"
            ],
            "image/png": "[encoded data removed]"
          },
          "metadata": {
            "needs_background": "light"
          }
        },
        {
          "output_type": "display_data",
          "data": {
            "text/plain": [
              "<Figure size 432x288 with 1 Axes>"
            ],
            "image/png": "[encoded data removed]"
          },
          "metadata": {
            "needs_background": "light"
          }
        },
        {
          "output_type": "stream",
          "name": "stdout",
          "text": [
            "Média é 160.38193\n",
            "Desvio padrão 1.86320\n"
          ]
        }
      ]
    },
    {
      "cell_type": "markdown",
      "source": [
        "tudo  junto "
      ],
      "metadata": {
        "id": "WPA1Mlgwm5ld"
      }
    },
    {
      "cell_type": "code",
      "source": [
        "import pandas as pd\n",
        "import matplotlib.pyplot as plt\n",
        "\n",
        "i= pd.read_csv('https://raw.githubusercontent.com/brdacunha/BECN/main/Tecido_1.csv')\n",
        "i \n",
        "\n",
        "plt.figure()\n",
        "i.boxplot(['Controle_1','Omo_1','Vanish_1','Sabao_1','Candida_1'])\n",
        "\n",
        "plt.show()\n",
        "\n"
      ],
      "metadata": {
        "colab": {
          "base_uri": "https://localhost:8080/",
          "height": 266
        },
        "id": "vRSN1q3cm7cs",
        "outputId": "4e533ae3-cb0e-42a1-bdae-ba381b6268fc"
      },
      "execution_count": 5,
      "outputs": [
        {
          "output_type": "display_data",
          "data": {
            "text/plain": [
              "<Figure size 432x288 with 1 Axes>"
            ],
            "image/png": "[encoded data removed]"
          },
          "metadata": {
            "needs_background": "light"
          }
        }
      ]
    }
  ]
}