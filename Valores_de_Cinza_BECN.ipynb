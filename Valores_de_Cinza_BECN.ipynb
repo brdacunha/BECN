{
  "nbformat": 4,
  "nbformat_minor": 0,
  "metadata": {
    "colab": {
      "provenance": [],
      "authorship_tag": "ABX9TyM5EZZZaf7qgpvImKChFO/5",
      "include_colab_link": true
    },
    "kernelspec": {
      "name": "python3",
      "display_name": "Python 3"
    },
    "language_info": {
      "name": "python"
    }
  },
  "cells": [
    {
      "cell_type": "markdown",
      "metadata": {
        "id": "view-in-github",
        "colab_type": "text"
      },
      "source": [
        "<a href=\"https://colab.research.google.com/github/brdacunha/BECN/blob/main/Valores_de_Cinza_BECN.ipynb\" target=\"_parent\"><img src=\"https://colab.research.google.com/assets/colab-badge.svg\" alt=\"Open In Colab\"/></a>"
      ]
    },
    {
      "cell_type": "code",
      "execution_count": 9,
      "metadata": {
        "colab": {
          "base_uri": "https://localhost:8080/"
        },
        "id": "FTqewfA2maMp",
        "outputId": "751ac257-f9dd-4e84-ebca-66385a89bcc6"
      },
      "outputs": [
        {
          "output_type": "stream",
          "name": "stdout",
          "text": [
            "     Pixel  Controle_2   Omo_2  Vanish_2  Sabao_2  Candida_2\n",
            "0        0      196.06  170.33    179.83   155.91     182.86\n",
            "1        1      196.34  170.15    180.34   155.46     181.83\n",
            "2        2      196.54  170.41    180.85   155.77     181.75\n",
            "3        3      196.90  170.79    181.95   155.88     181.75\n",
            "4        4      196.70  171.03    182.15   155.83     182.21\n",
            "..     ...         ...     ...       ...      ...        ...\n",
            "145    145      192.88  175.96    186.05   158.87     182.11\n",
            "146    146      193.24  177.85    186.35   159.77     181.86\n",
            "147    147      193.67  178.35    185.43   159.80     181.55\n",
            "148    148      193.92  177.73    185.66   159.66     181.77\n",
            "149    149      193.92  179.11    185.47   159.86     182.60\n",
            "\n",
            "[150 rows x 6 columns]\n"
          ]
        }
      ],
      "source": [
        "import pandas as pd\n",
        "\n",
        "Tecido1 = pd.read_csv('https://raw.githubusercontent.com/brdacunha/BECN/main/Tecido_1.csv')\n",
        "Tecido2 = pd.read_csv('https://raw.githubusercontent.com/brdacunha/BECN/main/Tecido%202.csv')\n"
      ]
    }
  ]
}